{
 "cells": [
  {
   "cell_type": "code",
   "execution_count": 3,
   "id": "dcb536a1",
   "metadata": {
    "scrolled": true
   },
   "outputs": [
    {
     "data": {
      "text/html": [
       "<pre style=\"white-space:pre;overflow-x:auto;line-height:normal;font-family:Menlo,'DejaVu Sans Mono',consolas,'Courier New',monospace\"><span style=\"color: #7fbfbf; text-decoration-color: #7fbfbf\">[01/06/24 23:04:43] </span><span style=\"color: #000080; text-decoration-color: #000080\">INFO    </span> Loading data from <span style=\"color: #008000; text-decoration-color: #008000\">'cleaned_with_text_col_all_the_news_data'</span>        <a href=\"file:///Users/mac_markus/opt/anaconda3/envs/finance_news/lib/python3.9/site-packages/kedro/io/data_catalog.py\" target=\"_blank\"><span style=\"color: #7f7f7f; text-decoration-color: #7f7f7f\">data_catalog.py</span></a><span style=\"color: #7f7f7f; text-decoration-color: #7f7f7f\">:</span><a href=\"file:///Users/mac_markus/opt/anaconda3/envs/finance_news/lib/python3.9/site-packages/kedro/io/data_catalog.py#343\" target=\"_blank\"><span style=\"color: #7f7f7f; text-decoration-color: #7f7f7f\">343</span></a>\n",
       "<span style=\"color: #7fbfbf; text-decoration-color: #7fbfbf\">                    </span>         <span style=\"font-weight: bold\">(</span>ParquetDataSet<span style=\"font-weight: bold\">)</span><span style=\"color: #808000; text-decoration-color: #808000\">...</span>                                                <span style=\"color: #7f7f7f; text-decoration-color: #7f7f7f\">                   </span>\n",
       "</pre>\n"
      ],
      "text/plain": [
       "\u001b[2;36m[01/06/24 23:04:43]\u001b[0m\u001b[2;36m \u001b[0m\u001b[34mINFO    \u001b[0m Loading data from \u001b[32m'cleaned_with_text_col_all_the_news_data'\u001b[0m        \u001b]8;id=906918;file:///Users/mac_markus/opt/anaconda3/envs/finance_news/lib/python3.9/site-packages/kedro/io/data_catalog.py\u001b\\\u001b[2mdata_catalog.py\u001b[0m\u001b]8;;\u001b\\\u001b[2m:\u001b[0m\u001b]8;id=566360;file:///Users/mac_markus/opt/anaconda3/envs/finance_news/lib/python3.9/site-packages/kedro/io/data_catalog.py#343\u001b\\\u001b[2m343\u001b[0m\u001b]8;;\u001b\\\n",
       "\u001b[2;36m                    \u001b[0m         \u001b[1m(\u001b[0mParquetDataSet\u001b[1m)\u001b[0m\u001b[33m...\u001b[0m                                                \u001b[2m                   \u001b[0m\n"
      ]
     },
     "metadata": {},
     "output_type": "display_data"
    }
   ],
   "source": [
    "cleaned_with_text_col_all_the_news_data = catalog.load(\"cleaned_with_text_col_all_the_news_data\")"
   ]
  },
  {
   "cell_type": "code",
   "execution_count": 4,
   "id": "8282d062",
   "metadata": {},
   "outputs": [
    {
     "data": {
      "text/html": [
       "<div>\n",
       "<style scoped>\n",
       "    .dataframe tbody tr th:only-of-type {\n",
       "        vertical-align: middle;\n",
       "    }\n",
       "\n",
       "    .dataframe tbody tr th {\n",
       "        vertical-align: top;\n",
       "    }\n",
       "\n",
       "    .dataframe thead th {\n",
       "        text-align: right;\n",
       "    }\n",
       "</style>\n",
       "<table border=\"1\" class=\"dataframe\">\n",
       "  <thead>\n",
       "    <tr style=\"text-align: right;\">\n",
       "      <th></th>\n",
       "      <th>date_time</th>\n",
       "      <th>year</th>\n",
       "      <th>month</th>\n",
       "      <th>day</th>\n",
       "      <th>title</th>\n",
       "      <th>article</th>\n",
       "      <th>url</th>\n",
       "      <th>publication</th>\n",
       "      <th>date</th>\n",
       "      <th>title_cleaned</th>\n",
       "      <th>article_cleaned</th>\n",
       "      <th>text</th>\n",
       "      <th>text_cleaned</th>\n",
       "    </tr>\n",
       "  </thead>\n",
       "  <tbody>\n",
       "    <tr>\n",
       "      <th>3</th>\n",
       "      <td>2019-06-27 00:00:00</td>\n",
       "      <td>2019</td>\n",
       "      <td>6.0</td>\n",
       "      <td>27</td>\n",
       "      <td>France's Sarkozy reveals his 'Passions' but in...</td>\n",
       "      <td>PARIS (Reuters) - Former French president Nico...</td>\n",
       "      <td>https://www.reuters.com/article/france-politic...</td>\n",
       "      <td>Reuters</td>\n",
       "      <td>2019-06-27</td>\n",
       "      <td>frances sarkozy reveals his passions but insis...</td>\n",
       "      <td>paris reuters  former french president nicolas...</td>\n",
       "      <td>France's Sarkozy reveals his 'Passions' but in...</td>\n",
       "      <td>frances sarkozy reveals his passions but insis...</td>\n",
       "    </tr>\n",
       "    <tr>\n",
       "      <th>5</th>\n",
       "      <td>2019-06-17 00:00:00</td>\n",
       "      <td>2019</td>\n",
       "      <td>6.0</td>\n",
       "      <td>17</td>\n",
       "      <td>ECB's Coeure: If we decide to cut rates, we'd ...</td>\n",
       "      <td>BERLIN, June 17 (Reuters) - ECB board member B...</td>\n",
       "      <td>https://www.reuters.com/article/ecb-policy-coe...</td>\n",
       "      <td>Reuters</td>\n",
       "      <td>2019-06-17</td>\n",
       "      <td>ecbs coeure if we decide to cut rates wed have...</td>\n",
       "      <td>berlin june 17 reuters  ecb board member benoi...</td>\n",
       "      <td>ECB's Coeure: If we decide to cut rates, we'd ...</td>\n",
       "      <td>ecbs coeure if we decide to cut rates wed have...</td>\n",
       "    </tr>\n",
       "    <tr>\n",
       "      <th>6</th>\n",
       "      <td>2019-06-23 00:00:00</td>\n",
       "      <td>2019</td>\n",
       "      <td>6.0</td>\n",
       "      <td>23</td>\n",
       "      <td>Venezuela detains six military, police officia...</td>\n",
       "      <td>CARACAS (Reuters) - Venezuelan authorities hav...</td>\n",
       "      <td>https://www.reuters.com/article/us-venezuela-p...</td>\n",
       "      <td>Reuters</td>\n",
       "      <td>2019-06-23</td>\n",
       "      <td>venezuela detains six military police official...</td>\n",
       "      <td>caracas reuters  venezuelan authorities have a...</td>\n",
       "      <td>Venezuela detains six military, police officia...</td>\n",
       "      <td>venezuela detains six military police official...</td>\n",
       "    </tr>\n",
       "    <tr>\n",
       "      <th>7</th>\n",
       "      <td>2018-05-02 17:09:00</td>\n",
       "      <td>2018</td>\n",
       "      <td>5.0</td>\n",
       "      <td>2</td>\n",
       "      <td>You Can Trick Your Brain Into Being More Focused</td>\n",
       "      <td>If only every day could be like this. You can’...</td>\n",
       "      <td>https://www.vice.com/en_us/article/9kgp4v/how-...</td>\n",
       "      <td>Vice</td>\n",
       "      <td>2018-05-02</td>\n",
       "      <td>you can trick your brain into being more focused</td>\n",
       "      <td>if only every day could be like this you can’t...</td>\n",
       "      <td>You Can Trick Your Brain Into Being More Focus...</td>\n",
       "      <td>you can trick your brain into being more focus...</td>\n",
       "    </tr>\n",
       "    <tr>\n",
       "      <th>10</th>\n",
       "      <td>2019-05-22 20:10:00</td>\n",
       "      <td>2019</td>\n",
       "      <td>5.0</td>\n",
       "      <td>22</td>\n",
       "      <td>“Elizabeth Warren called me!” is turning into ...</td>\n",
       "      <td>Elizabeth Warren is giving people a new reason...</td>\n",
       "      <td>https://www.vox.com/policy-and-politics/2019/5...</td>\n",
       "      <td>Vox</td>\n",
       "      <td>2019-05-22</td>\n",
       "      <td>“elizabeth warren called me” is turning into a...</td>\n",
       "      <td>elizabeth warren is giving people a new reason...</td>\n",
       "      <td>“Elizabeth Warren called me!” is turning into ...</td>\n",
       "      <td>“elizabeth warren called me” is turning into a...</td>\n",
       "    </tr>\n",
       "  </tbody>\n",
       "</table>\n",
       "</div>"
      ]
     },
     "execution_count": 4,
     "metadata": {},
     "output_type": "execute_result"
    }
   ],
   "source": [
    "cleaned_with_text_col_all_the_news_data.head()"
   ]
  }
 ],
 "metadata": {
  "kernelspec": {
   "display_name": "Kedro (financial_news_analysis)",
   "language": "python",
   "name": "kedro_financial_news_analysis"
  },
  "language_info": {
   "codemirror_mode": {
    "name": "ipython",
    "version": 3
   },
   "file_extension": ".py",
   "mimetype": "text/x-python",
   "name": "python",
   "nbconvert_exporter": "python",
   "pygments_lexer": "ipython3",
   "version": "3.9.0"
  }
 },
 "nbformat": 4,
 "nbformat_minor": 5
}
