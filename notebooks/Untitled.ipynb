{
 "cells": [
  {
   "cell_type": "code",
   "execution_count": null,
   "id": "dcb536a1",
   "metadata": {
    "scrolled": true
   },
   "outputs": [],
   "source": [
    "cleaned_with_text_col_all_the_news_data = catalog.load(\"cleaned_with_text_col_all_the_news_data\")"
   ]
  },
  {
   "cell_type": "code",
   "execution_count": null,
   "id": "4f40ea04",
   "metadata": {},
   "outputs": [],
   "source": [
    "cleaned_with_text_col_all_the_news_data.head()"
   ]
  }
 ],
 "metadata": {
  "kernelspec": {
   "display_name": "Kedro (financial_news_analysis)",
   "language": "python",
   "name": "kedro_financial_news_analysis"
  },
  "language_info": {
   "codemirror_mode": {
    "name": "ipython",
    "version": 3
   },
   "file_extension": ".py",
   "mimetype": "text/x-python",
   "name": "python",
   "nbconvert_exporter": "python",
   "pygments_lexer": "ipython3",
   "version": "3.9.0"
  }
 },
 "nbformat": 4,
 "nbformat_minor": 5
}
