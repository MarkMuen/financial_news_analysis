{
 "cells": [
  {
   "cell_type": "code",
   "execution_count": null,
   "id": "de8f0ddf",
   "metadata": {},
   "outputs": [],
   "source": [
    "from kedro.io import DataCatalog"
   ]
  },
  {
   "cell_type": "code",
   "execution_count": null,
   "id": "36932b47",
   "metadata": {},
   "outputs": [],
   "source": [
    "df = catalog.load(\"all_the_news\")"
   ]
  },
  {
   "cell_type": "code",
   "execution_count": null,
   "id": "82d3898c",
   "metadata": {
    "scrolled": true
   },
   "outputs": [],
   "source": [
    "df.head()"
   ]
  },
  {
   "cell_type": "code",
   "execution_count": null,
   "id": "df165be9",
   "metadata": {},
   "outputs": [],
   "source": [
    "df = df.rename(columns={\"date\": \"date_time\"})\n",
    "df = df.drop(['section', \"author\"],axis=1)"
   ]
  },
  {
   "cell_type": "code",
   "execution_count": null,
   "id": "1e7b56b3",
   "metadata": {},
   "outputs": [],
   "source": [
    "df.loc[df[\"article\"].isnull(),\"article\"] = df.loc[df[\"article\"].isnull(),\"title\"]"
   ]
  },
  {
   "cell_type": "code",
   "execution_count": null,
   "id": "b1947096",
   "metadata": {},
   "outputs": [],
   "source": [
    "df[\"date_time\"][0].split(\" \")[0]"
   ]
  }
 ],
 "metadata": {
  "kernelspec": {
   "display_name": "Kedro (financial_news_analysis)",
   "language": "python",
   "name": "kedro_financial_news_analysis"
  },
  "language_info": {
   "codemirror_mode": {
    "name": "ipython",
    "version": 3
   },
   "file_extension": ".py",
   "mimetype": "text/x-python",
   "name": "python",
   "nbconvert_exporter": "python",
   "pygments_lexer": "ipython3",
   "version": "3.9.0"
  }
 },
 "nbformat": 4,
 "nbformat_minor": 5
}
